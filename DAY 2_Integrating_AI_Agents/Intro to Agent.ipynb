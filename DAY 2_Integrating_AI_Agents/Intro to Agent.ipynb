{
 "cells": [
  {
   "cell_type": "markdown",
   "id": "4e50a636",
   "metadata": {},
   "source": [
    "## Querring LLM\n",
    "lets query the LLM and see how it gives response\n",
    "\n",
    "The Building block of Agentic AI system are:\n",
    "\n",
    "**Planning**\n",
    "\n",
    "**Memory**\n",
    "\n",
    "**Tools**\n",
    "\n",
    "**Action**"
   ]
  },
  {
   "cell_type": "markdown",
   "id": "bf234522",
   "metadata": {},
   "source": [
    "#### Setting API keys"
   ]
  },
  {
   "cell_type": "code",
   "execution_count": 32,
   "id": "62b7872b",
   "metadata": {},
   "outputs": [],
   "source": [
    "import os\n",
    "from dotenv import load_dotenv\n",
    "\n",
    "load_dotenv ()\n",
    "os.environ[\"OPENAI_API_KEY\"] = os.getenv(\"OPENAI_API_KEY\")"
   ]
  },
  {
   "cell_type": "markdown",
   "id": "1aa6dc2a",
   "metadata": {},
   "source": [
    "OPENAI_API_KEY = kcjkjksdfjnksdfjkl"
   ]
  },
  {
   "cell_type": "markdown",
   "id": "cebe9b2a",
   "metadata": {},
   "source": [
    "#### Initializing LLM"
   ]
  },
  {
   "cell_type": "code",
   "execution_count": 33,
   "id": "134d6840",
   "metadata": {},
   "outputs": [],
   "source": [
    "from langchain_openai import ChatOpenAI\n",
    "llm = ChatOpenAI(model=\"gpt-4.1-nano\")"
   ]
  },
  {
   "cell_type": "code",
   "execution_count": 46,
   "id": "e0a015e6",
   "metadata": {},
   "outputs": [],
   "source": [
    "response = llm.invoke(\"What is Agentic AI\")"
   ]
  },
  {
   "cell_type": "code",
   "execution_count": 47,
   "id": "ce13ec5b",
   "metadata": {},
   "outputs": [
    {
     "data": {
      "text/plain": [
       "AIMessage(content='Agentic AI refers to artificial intelligence systems that exhibit traits of agency, meaning they can perceive their environment, make decisions, set goals, and act independently to some extent. Unlike traditional AI models that mainly process inputs to produce outputs without autonomous initiative, agentic AI is designed to function as an autonomous agent capable of pursuing objectives, adapting to new situations, and potentially learning from interactions.\\n\\nKey characteristics of agentic AI include:\\n- **Autonomy:** The ability to operate without direct human intervention.\\n- **Proactiveness:** Initiating actions to achieve set goals.\\n- **Learning and Adaptation:** Improving performance over time based on experience.\\n- **Goal-directed behavior:** Acting with purpose aligned with specific objectives.\\n\\nAgentic AI is a concept of interest in fields like robotics, autonomous systems, and general AI research. It raises important considerations regarding safety, control, ethical implications, and the boundaries of machine decision-making.', additional_kwargs={'refusal': None}, response_metadata={'token_usage': {'completion_tokens': 183, 'prompt_tokens': 12, 'total_tokens': 195, 'completion_tokens_details': {'accepted_prediction_tokens': 0, 'audio_tokens': 0, 'reasoning_tokens': 0, 'rejected_prediction_tokens': 0}, 'prompt_tokens_details': {'audio_tokens': 0, 'cached_tokens': 0}}, 'model_name': 'gpt-4.1-nano-2025-04-14', 'system_fingerprint': 'fp_8fd43718b3', 'finish_reason': 'stop', 'logprobs': None}, id='run-c9c49845-c344-4eaf-b1ed-e15eb9b14069-0', usage_metadata={'input_tokens': 12, 'output_tokens': 183, 'total_tokens': 195, 'input_token_details': {'audio': 0, 'cache_read': 0}, 'output_token_details': {'audio': 0, 'reasoning': 0}})"
      ]
     },
     "execution_count": 47,
     "metadata": {},
     "output_type": "execute_result"
    }
   ],
   "source": [
    "response"
   ]
  },
  {
   "cell_type": "code",
   "execution_count": 36,
   "id": "6ec0ecee",
   "metadata": {},
   "outputs": [
    {
     "name": "stdout",
     "output_type": "stream",
     "text": [
      "Agentic AI refers to artificial intelligence systems that possess or exhibit agency, meaning they can autonomously make decisions, pursue goals, and take actions without direct human control. These AI agents are often designed to operate proactively in complex environments, adapt to new situations, and achieve specific objectives through reasoning and goal-directed behavior. The concept of agentic AI encompasses systems that can learn, plan, and act independently, often with minimal oversight, raising important discussions around autonomy, ethics, safety, and control in AI development.\n"
     ]
    }
   ],
   "source": [
    "print (response.content)"
   ]
  },
  {
   "cell_type": "markdown",
   "id": "66a85dd4",
   "metadata": {},
   "source": [
    "## Building Graph"
   ]
  },
  {
   "cell_type": "markdown",
   "id": "606ed0ab",
   "metadata": {},
   "source": [
    "#### Building a simple Graph"
   ]
  },
  {
   "cell_type": "code",
   "execution_count": 43,
   "id": "8415ae0c",
   "metadata": {},
   "outputs": [],
   "source": [
    "from langgraph.graph import StateGraph, START, END, MessagesState\n",
    "from IPython.display import Image, display\n",
    "\n",
    "def llm_call (state: MessagesState) -> MessagesState:\n",
    "    response = llm.invoke (state['messages'])\n",
    "    return {'messages': response}\n"
   ]
  },
  {
   "cell_type": "code",
   "execution_count": null,
   "id": "8020d8ff",
   "metadata": {},
   "outputs": [],
   "source": [
    "class MessagesState (TypedDict):\n",
    "    messages: Annotated[list, add]"
   ]
  },
  {
   "cell_type": "code",
   "execution_count": 44,
   "id": "d8f71e33",
   "metadata": {},
   "outputs": [
    {
     "data": {
      "image/png": "[encoded data removed]",
      "text/plain": [
       "<IPython.core.display.Image object>"
      ]
     },
     "metadata": {},
     "output_type": "display_data"
    }
   ],
   "source": [
    "builder = StateGraph (MessagesState)\n",
    "builder.add_node ('llm_call', llm_call)\n",
    "\n",
    "builder.add_edge (START, 'llm_call')\n",
    "builder.add_edge ('llm_call', END)\n",
    "\n",
    "graph = builder.compile()\n",
    "\n",
    "display (Image (graph.get_graph().draw_mermaid_png()))"
   ]
  },
  {
   "cell_type": "code",
   "execution_count": 48,
   "id": "9fddf641",
   "metadata": {},
   "outputs": [],
   "source": [
    "from langchain_core.messages import HumanMessage\n",
    "\n",
    "msg = [HumanMessage(content='What is the product of 2 and 3 added to 6')]\n",
    "response = graph.invoke ({'messages': msg})"
   ]
  },
  {
   "cell_type": "code",
   "execution_count": 49,
   "id": "4f65c860",
   "metadata": {},
   "outputs": [
    {
     "data": {
      "text/plain": [
       "{'messages': [HumanMessage(content='What is the product of 2 and 3 added to 6', additional_kwargs={}, response_metadata={}, id='abff13fc-752f-40a4-9776-d9337af641ca'),\n",
       "  AIMessage(content='First, multiply 2 and 3: \\\\( 2 \\\\times 3 = 6 \\\\).\\n\\nThen, add 6: \\\\( 6 + 6 = 12 \\\\).\\n\\n**The product of 2 and 3 added to 6 is \\\\(\\\\boxed{12}\\\\).**', additional_kwargs={'refusal': None}, response_metadata={'token_usage': {'completion_tokens': 61, 'prompt_tokens': 21, 'total_tokens': 82, 'completion_tokens_details': {'accepted_prediction_tokens': 0, 'audio_tokens': 0, 'reasoning_tokens': 0, 'rejected_prediction_tokens': 0}, 'prompt_tokens_details': {'audio_tokens': 0, 'cached_tokens': 0}}, 'model_name': 'gpt-4.1-nano-2025-04-14', 'system_fingerprint': 'fp_eede8f0d45', 'finish_reason': 'stop', 'logprobs': None}, id='run-2907b736-3253-4179-ba98-872cfe220a7b-0', usage_metadata={'input_tokens': 21, 'output_tokens': 61, 'total_tokens': 82, 'input_token_details': {'audio': 0, 'cache_read': 0}, 'output_token_details': {'audio': 0, 'reasoning': 0}})]}"
      ]
     },
     "execution_count": 49,
     "metadata": {},
     "output_type": "execute_result"
    }
   ],
   "source": [
    "response"
   ]
  },
  {
   "cell_type": "code",
   "execution_count": 40,
   "id": "234bac00",
   "metadata": {},
   "outputs": [
    {
     "name": "stdout",
     "output_type": "stream",
     "text": [
      "================================\u001b[1m Human Message \u001b[0m=================================\n",
      "\n",
      "What is the product of 2 and 3 added to 6\n",
      "==================================\u001b[1m Ai Message \u001b[0m==================================\n",
      "\n",
      "First, multiply 2 and 3: \\( 2 \\times 3 = 6 \\).\n",
      "\n",
      "Next, add 6 to that product: \\( 6 + 6 = 12 \\).\n",
      "\n",
      "**Answer:** \\(\\boxed{12}\\)\n"
     ]
    }
   ],
   "source": [
    "for m in response['messages']:\n",
    "    m.pretty_print()"
   ]
  },
  {
   "cell_type": "markdown",
   "id": "b9201990",
   "metadata": {},
   "source": [
    "## Building Agent"
   ]
  },
  {
   "cell_type": "markdown",
   "id": "cec2f945",
   "metadata": {},
   "source": [
    "#### Defining the tools"
   ]
  },
  {
   "cell_type": "code",
   "execution_count": 50,
   "id": "ca19fd8f",
   "metadata": {},
   "outputs": [],
   "source": [
    "def multiply (a: int, b: int) -> int:\n",
    "    \"\"\"\n",
    "    Multiply a and b\n",
    "\n",
    "    Args:\n",
    "        a: first int\n",
    "        b: second int\n",
    "    \"\"\"\n",
    "    return a*b\n",
    "\n",
    "def add (a: int, b: int) -> int:\n",
    "    \"\"\"\n",
    "    Adds a and b\n",
    "\n",
    "    Args:\n",
    "        a: first int\n",
    "        b: second int\n",
    "    \"\"\"\n",
    "    return a+b\n",
    "\n",
    "tools = [multiply, add]\n",
    "llm_with_tool = llm.bind_tools (tools)"
   ]
  },
  {
   "cell_type": "code",
   "execution_count": 66,
   "id": "15ee1e11",
   "metadata": {},
   "outputs": [],
   "source": [
    "from langchain_core.messages import SystemMessage\n",
    "\n",
    "sys_msg = SystemMessage(content=\"You are an arithmetic assistand that perfoms arithmetic functions. Use the tools at your discretion to perfom the aritmetic function. Cross check the response from the tool to be sure they are accurate before giving them out.\")\n",
    "\n",
    "def assistant (state: MessagesState) -> MessagesState:\n",
    "    response = llm_with_tool.invoke ([sys_msg] + state ['messages'])\n",
    "    return {'messages': response}"
   ]
  },
  {
   "cell_type": "markdown",
   "id": "dd030e54",
   "metadata": {},
   "source": [
    "#### Building the graph"
   ]
  },
  {
   "cell_type": "code",
   "execution_count": 54,
   "id": "aad50d39",
   "metadata": {},
   "outputs": [
    {
     "name": "stdout",
     "output_type": "stream",
     "text": [
      "%%{init: {'flowchart': {'curve': 'linear'}}}%%\n",
      "graph TD;\n",
      "\t__start__([<p>__start__</p>]):::first\n",
      "\ttools(tools)\n",
      "\tassistant(assistant)\n",
      "\t__end__([<p>__end__</p>]):::last\n",
      "\t__start__ --> assistant;\n",
      "\ttools --> __end__;\n",
      "\tassistant -.-> tools;\n",
      "\tassistant -.-> __end__;\n",
      "\tclassDef default fill:#f2f0ff,line-height:1.2\n",
      "\tclassDef first fill-opacity:0\n",
      "\tclassDef last fill:#bfb6fc\n",
      "\n"
     ]
    }
   ],
   "source": [
    "from langgraph.prebuilt import tools_condition, ToolNode\n",
    "\n",
    "builder = StateGraph (MessagesState)\n",
    "builder.add_node ('tools', ToolNode(tools))\n",
    "builder.add_node ('assistant', assistant)\n",
    "\n",
    "builder.add_edge (START, 'assistant')\n",
    "builder.add_conditional_edges ('assistant', tools_condition)\n",
    "builder.add_edge ('tools', END)\n",
    "\n",
    "graph = builder.compile ()\n",
    "\n",
    "print (graph.get_graph().draw_mermaid())\n",
    "#display (Image (graph.get_graph().draw_mermaid_png()))"
   ]
  },
  {
   "cell_type": "code",
   "execution_count": 59,
   "id": "b765b3af",
   "metadata": {},
   "outputs": [
    {
     "name": "stdout",
     "output_type": "stream",
     "text": [
      "================================\u001b[1m Human Message \u001b[0m=================================\n",
      "\n",
      "ADD 5 and 6\n",
      "==================================\u001b[1m Ai Message \u001b[0m==================================\n",
      "Tool Calls:\n",
      "  add (call_9uQtNRntgxdcuV32JucGtqEC)\n",
      " Call ID: call_9uQtNRntgxdcuV32JucGtqEC\n",
      "  Args:\n",
      "    a: 5\n",
      "    b: 6\n",
      "=================================\u001b[1m Tool Message \u001b[0m=================================\n",
      "Name: add\n",
      "\n",
      "11\n"
     ]
    }
   ],
   "source": [
    "msg = HumanMessage(content= \"ADD 5 and 6\")\n",
    "response = graph.invoke ({'messages': msg})\n",
    "for m in response['messages']:\n",
    "    m.pretty_print()"
   ]
  },
  {
   "cell_type": "markdown",
   "id": "62202b75",
   "metadata": {},
   "source": [
    "#### Adding Reasoning to the Agent"
   ]
  },
  {
   "cell_type": "code",
   "execution_count": 67,
   "id": "d3e029ed",
   "metadata": {},
   "outputs": [
    {
     "name": "stdout",
     "output_type": "stream",
     "text": [
      "%%{init: {'flowchart': {'curve': 'linear'}}}%%\n",
      "graph TD;\n",
      "\t__start__([<p>__start__</p>]):::first\n",
      "\ttools(tools)\n",
      "\tassistant(assistant)\n",
      "\t__end__([<p>__end__</p>]):::last\n",
      "\t__start__ --> assistant;\n",
      "\ttools --> assistant;\n",
      "\tassistant -.-> tools;\n",
      "\tassistant -.-> __end__;\n",
      "\tclassDef default fill:#f2f0ff,line-height:1.2\n",
      "\tclassDef first fill-opacity:0\n",
      "\tclassDef last fill:#bfb6fc\n",
      "\n"
     ]
    }
   ],
   "source": [
    "builder = StateGraph (MessagesState)\n",
    "builder.add_node ('tools', ToolNode(tools))\n",
    "builder.add_node ('assistant', assistant)\n",
    "\n",
    "builder.add_edge (START, 'assistant')\n",
    "builder.add_conditional_edges ('assistant', tools_condition)\n",
    "builder.add_edge ('tools', 'assistant')\n",
    "\n",
    "graph = builder.compile ()\n",
    "\n",
    "print (graph.get_graph().draw_mermaid())"
   ]
  },
  {
   "cell_type": "code",
   "execution_count": 68,
   "id": "c9c3a3ad",
   "metadata": {},
   "outputs": [
    {
     "name": "stdout",
     "output_type": "stream",
     "text": [
      "================================\u001b[1m Human Message \u001b[0m=================================\n",
      "\n",
      "add 10 and 37, multiply the output by 10\n",
      "==================================\u001b[1m Ai Message \u001b[0m==================================\n",
      "Tool Calls:\n",
      "  add (call_LIKTHUQE3rMOysTsnYt3UIkJ)\n",
      " Call ID: call_LIKTHUQE3rMOysTsnYt3UIkJ\n",
      "  Args:\n",
      "    a: 10\n",
      "    b: 37\n",
      "  multiply (call_acoWVwiwBMwx1vMfiEBqImNY)\n",
      " Call ID: call_acoWVwiwBMwx1vMfiEBqImNY\n",
      "  Args:\n",
      "    a: 47\n",
      "    b: 10\n",
      "=================================\u001b[1m Tool Message \u001b[0m=================================\n",
      "Name: add\n",
      "\n",
      "47\n",
      "=================================\u001b[1m Tool Message \u001b[0m=================================\n",
      "Name: multiply\n",
      "\n",
      "470\n",
      "==================================\u001b[1m Ai Message \u001b[0m==================================\n",
      "\n",
      "The sum of 10 and 37 is 47, and when multiplied by 10, the result is 470.\n"
     ]
    }
   ],
   "source": [
    "msg = HumanMessage(content= \"add 10 and 37, multiply the output by 10\")\n",
    "response = graph.invoke ({'messages': msg})\n",
    "for m in response['messages']:\n",
    "    m.pretty_print()"
   ]
  },
  {
   "cell_type": "code",
   "execution_count": 69,
   "id": "e18c0cbf",
   "metadata": {},
   "outputs": [
    {
     "name": "stdout",
     "output_type": "stream",
     "text": [
      "================================\u001b[1m Human Message \u001b[0m=================================\n",
      "\n",
      "who are you\n",
      "==================================\u001b[1m Ai Message \u001b[0m==================================\n",
      "\n",
      "I am an arithmetic assistant ready to help you perform arithmetic functions. How can I assist you today?\n"
     ]
    }
   ],
   "source": [
    "msg = HumanMessage(content= \"who are you\")\n",
    "response = graph.invoke ({'messages': msg})\n",
    "for m in response['messages']:\n",
    "    m.pretty_print()"
   ]
  },
  {
   "cell_type": "code",
   "execution_count": 70,
   "id": "2e925e0f",
   "metadata": {},
   "outputs": [
    {
     "name": "stdout",
     "output_type": "stream",
     "text": [
      "================================\u001b[1m Human Message \u001b[0m=================================\n",
      "\n",
      "add 10 and 37, then divide the output by 10\n",
      "==================================\u001b[1m Ai Message \u001b[0m==================================\n",
      "Tool Calls:\n",
      "  add (call_pYcjq4u6R2PWL13BCbOfmYI3)\n",
      " Call ID: call_pYcjq4u6R2PWL13BCbOfmYI3\n",
      "  Args:\n",
      "    a: 10\n",
      "    b: 37\n",
      "  multiply (call_Cvepn6zV3MAz2IA7mTy2UagX)\n",
      " Call ID: call_Cvepn6zV3MAz2IA7mTy2UagX\n",
      "  Args:\n",
      "    a: 10\n",
      "    b: 1\n",
      "=================================\u001b[1m Tool Message \u001b[0m=================================\n",
      "Name: add\n",
      "\n",
      "47\n",
      "=================================\u001b[1m Tool Message \u001b[0m=================================\n",
      "Name: multiply\n",
      "\n",
      "10\n",
      "==================================\u001b[1m Ai Message \u001b[0m==================================\n",
      "\n",
      "The sum of 10 and 37 is 47. Dividing 47 by 10 gives 4.7.\n"
     ]
    }
   ],
   "source": [
    "msg = HumanMessage(content= \"add 10 and 37, then divide the output by 10\")\n",
    "response = graph.invoke ({'messages': msg})\n",
    "for m in response['messages']:\n",
    "    m.pretty_print()"
   ]
  },
  {
   "cell_type": "code",
   "execution_count": null,
   "id": "8212e3f4",
   "metadata": {},
   "outputs": [],
   "source": []
  }
 ],
 "metadata": {
  "kernelspec": {
   "display_name": "LangGraph",
   "language": "python",
   "name": "python3"
  },
  "language_info": {
   "codemirror_mode": {
    "name": "ipython",
    "version": 3
   },
   "file_extension": ".py",
   "mimetype": "text/x-python",
   "name": "python",
   "nbconvert_exporter": "python",
   "pygments_lexer": "ipython3",
   "version": "3.12.9"
  }
 },
 "nbformat": 4,
 "nbformat_minor": 5
}
